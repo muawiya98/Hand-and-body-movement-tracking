{
 "cells": [
  {
   "cell_type": "code",
   "execution_count": 2,
   "metadata": {},
   "outputs": [],
   "source": [
    "import cv2\n",
    "import mediapipe as mp\n",
    "import numpy as np\n",
    "import math\n",
    "import datetime\n",
    "import pandas as pd\n",
    "import os \n",
    "import pickle"
   ]
  },
  {
   "cell_type": "markdown",
   "metadata": {},
   "source": [
    "#### Calculate Angle Between Three Point (1.shoulder,2.elbow,3.wrist)"
   ]
  },
  {
   "cell_type": "code",
   "execution_count": 3,
   "metadata": {},
   "outputs": [],
   "source": [
    "def calculate_angle(SHOULDER,ELBOW,WRIST):\n",
    "    \"\"\"\n",
    "    _ calculate_angle:Function to calculate angle between three point (1.shoulder,2.elbow,3.wrist)\n",
    "    _ shoulder:pose landmark number 11 and 12 containe X_position and Y_position\n",
    "    _ elbow:pose landmark number 13 and 14 containe X_position and Y_position\n",
    "    _ wrist:pose landmark number 15 and 16 containe X_position and Y_position\n",
    "    \"\"\"\n",
    "    SHOULDER = np.array(SHOULDER) # First\n",
    "    ELBOW = np.array(ELBOW) # Mid\n",
    "    WRIST = np.array(WRIST) # End\n",
    "    # https://www.medcalc.org/manual/atan2-function.php\n",
    "    radians = np.arctan2(WRIST[1]-ELBOW[1] , WRIST[0]-ELBOW[0]) - np.arctan2(SHOULDER[1]-ELBOW[1] , SHOULDER[0]-ELBOW[0] )\n",
    "    angle = np.abs(radians*180.0/np.pi)\n",
    "    if angle > 180:angle = 360-angle\n",
    "    return angle"
   ]
  },
  {
   "cell_type": "markdown",
   "metadata": {},
   "source": [
    "#### filtter Points in Curent Frame "
   ]
  },
  {
   "cell_type": "code",
   "execution_count": 4,
   "metadata": {},
   "outputs": [],
   "source": [
    "def filtter_points(landmark_1):\n",
    "    \"\"\"\n",
    "    _ filtter_points:Function to fillter all points in specific landmark (shoulder,elbow,wrist,hip,knee,ankle \"_left&right_\")\n",
    "    _ landmark_1:pose landmark for curent frame\n",
    "    \"\"\"\n",
    "    my_list = []\n",
    "    for ind in range(len(landmark_1)):\n",
    "        if ((ind>0)and(ind<=10))or((ind>=17)and(ind<=32)):continue\n",
    "        p1 = [landmark_1[ind].x,landmark_1[ind].y]\n",
    "        my_list.append(np.array([[p1[0]],[p1[1]]]))\n",
    "    return my_list"
   ]
  },
  {
   "cell_type": "markdown",
   "metadata": {},
   "source": [
    "#### Kalman Filter Equation Prediction Update "
   ]
  },
  {
   "cell_type": "code",
   "execution_count": 5,
   "metadata": {},
   "outputs": [],
   "source": [
    "def Prediction_update(X,A,P,Q):\n",
    "    \"\"\"\n",
    "    _ Prediction_update:Function to Applying Prediction Equation\n",
    "    _ X:State Matrix [X_position,Y_position,X_velocity,Y_velocity]\n",
    "    _ A:State Transition\n",
    "    _ P:Process Covariance Matrix\n",
    "    _ Q:Erorr Terms\n",
    "    \"\"\"\n",
    "    X = A.dot(X)\n",
    "    TEPM = A.dot(P)\n",
    "    P = TEPM.dot(A.T)+Q\n",
    "    return X,P"
   ]
  },
  {
   "cell_type": "markdown",
   "metadata": {},
   "source": [
    "##### Kalman Filter Equation Measurement Update"
   ]
  },
  {
   "cell_type": "code",
   "execution_count": 6,
   "metadata": {},
   "outputs": [],
   "source": [
    "def Measurement_update(Z,X,P,H,R):\n",
    "    \"\"\"\n",
    "    _ Measurement_update:Function to Applying Measurement Equation\n",
    "    _ X:State Matrix [X_position,Y_position,X_velocity,Y_velocity]\n",
    "    _ P:Process Covariance Matrix\n",
    "    _ H:unit matrix\n",
    "    _ R:Erorr Terms of the Measurement\n",
    "    \"\"\"\n",
    "    I = np.array([[1,0],\n",
    "                  [0, 1]])\n",
    "    \n",
    "    T1 = P.dot(H.T)\n",
    "    T2 = H.dot(P)\n",
    "    T3 = T2.dot(H.T)\n",
    "    T3 = T3 + R\n",
    "    K = T1.dot(np.linalg.inv(T3))\n",
    "    \n",
    "    T1 = H.dot(X)\n",
    "    T2 = Z - T1\n",
    "    T3 = K.dot(T2)\n",
    "    X = X + T3\n",
    "    \n",
    "    T1 = K.dot(H)\n",
    "    T2 = I - T1\n",
    "    P = T2.dot(P)\n",
    "\n",
    "    return X,P,K"
   ]
  },
  {
   "cell_type": "markdown",
   "metadata": {},
   "source": [
    "#### get all video in any root path"
   ]
  },
  {
   "cell_type": "code",
   "execution_count": 7,
   "metadata": {},
   "outputs": [],
   "source": [
    "def get_videos(path_folder):\n",
    "    \"\"\"\n",
    "    _ get_videos:Function to get all videos in root path\n",
    "    _ input:(path_folder) the root path for all dirctory that contant video\n",
    "    _ output:(folders) all dirctory in root path (all_video_paths) all paths video\n",
    "    \"\"\"\n",
    "    folders = os.listdir(path_folder)\n",
    "    all_video_paths = []\n",
    "    for folder in folders:\n",
    "        curr_dataset_path = os.path.join(path_folder, folder)\n",
    "        try:videos = os.listdir(curr_dataset_path)\n",
    "        except:\n",
    "            if \".mp4\" in curr_dataset_path:\n",
    "                all_video_paths.append(curr_dataset_path)\n",
    "                continue\n",
    "            else:continue\n",
    "        for video_p in videos:all_video_paths.append(os.path.join(curr_dataset_path, video_p))\n",
    "    return folders , all_video_paths"
   ]
  },
  {
   "cell_type": "markdown",
   "metadata": {},
   "source": [
    "#### Calculate Average for List or Array of Numbers"
   ]
  },
  {
   "cell_type": "code",
   "execution_count": 8,
   "metadata": {},
   "outputs": [],
   "source": [
    "def Average(lst):\n",
    "    \"\"\"\n",
    "    _Average:Function to calculate mean for list or array\n",
    "    _input:List or array of numbers\n",
    "    _output:the mean for input numbre\n",
    "    \"\"\"\n",
    "    return sum(lst) / len(lst)"
   ]
  },
  {
   "cell_type": "markdown",
   "metadata": {},
   "source": [
    "#### Save any Object We Need "
   ]
  },
  {
   "cell_type": "code",
   "execution_count": 9,
   "metadata": {},
   "outputs": [],
   "source": [
    "def save_object(obj, filename):\n",
    "    \"\"\"\n",
    "    _save_object:Function to save any object\n",
    "    _input:(obj) the object that we want save , (filename) Memorization path \n",
    "    \"\"\"\n",
    "    with open(filename+\".pkl\", 'wb') as outp:\n",
    "        pickle.dump(obj, outp, pickle.HIGHEST_PROTOCOL)\n",
    "    outp.close()"
   ]
  },
  {
   "cell_type": "markdown",
   "metadata": {},
   "source": [
    "#### Save any Object"
   ]
  },
  {
   "cell_type": "code",
   "execution_count": 10,
   "metadata": {},
   "outputs": [],
   "source": [
    "def load_object(filename):\n",
    "    \"\"\"\n",
    "    _load_object:Function to load any object\n",
    "    _input:object path \n",
    "    _output:the object\n",
    "    \"\"\"\n",
    "    with open(filename+\".pkl\", 'rb') as outp:\n",
    "        loaded_object = pickle.load(outp)\n",
    "    outp.close()\n",
    "    return loaded_object"
   ]
  },
  {
   "cell_type": "markdown",
   "metadata": {},
   "source": [
    "#### calculate angles between shoulder and elbow and wrist point for left and right hand"
   ]
  },
  {
   "cell_type": "code",
   "execution_count": 11,
   "metadata": {},
   "outputs": [],
   "source": [
    "def calculate_left_right_arm_angle(X):\n",
    "    \"\"\"\n",
    "    _ calculate_left_right_arm_angle:Function to calculate angle between three points from arm \n",
    "    _ input: (landmarks) all pose points , (mp_pose) contante all landmark name\n",
    "    _ output: left and right angle for tow arm\n",
    "    \"\"\"\n",
    "    LEFTangle = calculate_angle([X[1][0][0],X[1][1][0]],[X[3][0][0],X[3][1][0]],[X[5][0][0],X[5][1][0]])\n",
    "    RIGHTangle = calculate_angle([X[2][0][0],X[2][1][0]],[X[4][0][0],X[4][1][0]],[X[6][0][0],X[6][1][0]])\n",
    "    return LEFTangle,RIGHTangle"
   ]
  },
  {
   "cell_type": "markdown",
   "metadata": {},
   "source": [
    "#### Check if ram is moving or not"
   ]
  },
  {
   "cell_type": "code",
   "execution_count": 12,
   "metadata": {},
   "outputs": [],
   "source": [
    "def check_hand_moving(pre_angle,cur_angle): #####\n",
    "    \"\"\"\n",
    "    _ check_hand_moving: Function to check if arm moving or not \n",
    "    _ input: (pre_angle) angle from previose frame (cur_angle) angle from curent frame\n",
    "    _ output: (True) if arm moving (False) if arm not moving \n",
    "    \"\"\"\n",
    "    angle = cur_angle-pre_angle\n",
    "    stage=False\n",
    "    if angle>5:stage = True\n",
    "    return stage"
   ]
  },
  {
   "cell_type": "markdown",
   "metadata": {},
   "source": [
    "#### give the results of the calculation"
   ]
  },
  {
   "cell_type": "code",
   "execution_count": 13,
   "metadata": {},
   "outputs": [],
   "source": [
    "def hand_get_decistion(l_is_moved,r_is_moved):  #####\n",
    "    \"\"\" \n",
    "    _ hand_get_decistion: get decis\n",
    "    _ input: (\"l_is_moved\") true if left arm is moved or false if not , (\"r_is_moved\") true if right arm is moved or false if not\n",
    "    _ output: (Moving Hand , 1) or (Rest Hand 0)\n",
    "    \"\"\"\n",
    "    if l_is_moved or r_is_moved:return \"Moving Hand\",1\n",
    "    return \"Rest Hand\",0"
   ]
  },
  {
   "cell_type": "code",
   "execution_count": 14,
   "metadata": {},
   "outputs": [],
   "source": [
    "def Drawing_utils(image,results,mp_pose):\n",
    "    \"\"\"\n",
    "    _To draw joint points on the image\n",
    "    \"\"\"\n",
    "    mp_drawing = mp.solutions.drawing_utils\n",
    "    mp_drawing.draw_landmarks(image,results.pose_landmarks,mp_pose.POSE_CONNECTIONS,\n",
    "                              mp_drawing.DrawingSpec(color=(245,117,66),thickness=4,circle_radius=2),\n",
    "                              mp_drawing.DrawingSpec(color=(245,66,230),thickness=4))"
   ]
  },
  {
   "cell_type": "code",
   "execution_count": 15,
   "metadata": {},
   "outputs": [],
   "source": [
    "def creat_kalman_parameters(delta_t):\n",
    "    A = np.array([[1, delta_t],[0, 1]]) # STATE MATRIC (The relationship between system variables in the equations of motion)\n",
    "    P = np.eye(2)*10 # Guess Kalmen , Uncertainty Matrix , The relationship of state variables , external forces\n",
    "    H = np.eye(2) # Measurement matrix is used to calculate Calmen error\n",
    "    R = np.eye(2)*0.05 # Noise added for update\n",
    "    Q =np.eye(2)*0.1 # Noise added for measurement\n",
    "    X = [np.array([[0], [0]]) for _ in range(7)]\n",
    "    return A,P,H,R,Q,X"
   ]
  },
  {
   "cell_type": "code",
   "execution_count": 16,
   "metadata": {},
   "outputs": [],
   "source": [
    "def dist(p1,p2):\n",
    "    return math.sqrt((p2[0]-p1[0])**2+(p2[1]-p1[1])**2)"
   ]
  },
  {
   "cell_type": "code",
   "execution_count": 17,
   "metadata": {},
   "outputs": [],
   "source": [
    "def check_body_moving(i,head_points,shoulder_points): \n",
    "    \"\"\"\n",
    "    _To check whether the presenter's body has moved or turned\n",
    "    \"\"\"\n",
    "    if (head_points[-1]<shoulder_points[-2][1]) or (head_points[-1]>shoulder_points[-2][0]):return True\n",
    "    if (shoulder_points[-2][0]-shoulder_points[-2][1])>(shoulder_points[-1][0]-shoulder_points[-1][1]):return True\n",
    "    return False"
   ]
  },
  {
   "cell_type": "markdown",
   "metadata": {},
   "source": [
    "#### Download the video, perform the required calculations, and then save result"
   ]
  },
  {
   "cell_type": "code",
   "execution_count": 19,
   "metadata": {},
   "outputs": [],
   "source": [
    "def body(X,head_points,shoulder_points,temp,index):\n",
    "    \"\"\"\n",
    "    _Gives the final decision regarding body movement\n",
    "    \"\"\"\n",
    "    NOSE = X[0][0][0]\n",
    "    LEFT_SHOULDER = X[1][0][0]\n",
    "    RIGHT_SHOULDER = X[2][0][0]\n",
    "    \n",
    "    if NOSE and temp<2:\n",
    "        head_points.append(NOSE)\n",
    "        shoulder_points.append([LEFT_SHOULDER,RIGHT_SHOULDER])\n",
    "        temp+=1\n",
    "    \n",
    "    if len(head_points)>=1:\n",
    "        head_points.append(NOSE)\n",
    "        if check_body_moving(index,head_points,shoulder_points):\n",
    "            shoulder_points.append([LEFT_SHOULDER,RIGHT_SHOULDER])\n",
    "            decistion_body,Ndecistion_body = \"Moving Body\",1\n",
    "        else:decistion_body,Ndecistion_body = \"Rest Body\",0\n",
    "    return decistion_body,Ndecistion_body"
   ]
  },
  {
   "cell_type": "code",
   "execution_count": 20,
   "metadata": {},
   "outputs": [],
   "source": [
    "def hand(X,freeLEFT,freeRIGHT):\n",
    "    \"\"\"\n",
    "    _Gives the final decision regarding hand movement\n",
    "    \"\"\"\n",
    "    LEFTangle , RIGHTangle = calculate_left_right_arm_angle(X)\n",
    "    freeLEFT.append(LEFTangle)\n",
    "    freeRIGHT.append(RIGHTangle)\n",
    "    if len(freeLEFT)>1:l_is_moved = check_hand_moving(freeLEFT[-2],freeLEFT[-1])\n",
    "    else:l_is_moved = False\n",
    "    if len(freeRIGHT)>1:r_is_moved =check_hand_moving(freeRIGHT[-2],freeRIGHT[-1])\n",
    "    else:r_is_moved = False\n",
    "    decistion_hand,Ndecistion_hand = hand_get_decistion(l_is_moved,r_is_moved)\n",
    "    return decistion_hand,Ndecistion_hand"
   ]
  },
  {
   "cell_type": "code",
   "execution_count": 50,
   "metadata": {},
   "outputs": [],
   "source": [
    "def grouping_frames(X_List,Type):\n",
    "    temp,t = [],[]\n",
    "    for i,x in enumerate(X_List):\n",
    "        t.append(x)\n",
    "        if len(t)%15==0:\n",
    "            X = sum(t)\n",
    "            if Type==\"hand\":\n",
    "                if X>=5:temp.append(1)\n",
    "                else:temp.append(0)\n",
    "            if Type==\"body\":\n",
    "                if X>=3:temp.append(1)\n",
    "                else:temp.append(0)\n",
    "            t = [] \n",
    "    return temp"
   ]
  },
  {
   "cell_type": "code",
   "execution_count": 51,
   "metadata": {},
   "outputs": [],
   "source": [
    "def video_calss(hand_list,body_list):\n",
    "    number_hand_positive = sum(hand_list)\n",
    "    all_hand_frames = len(hand_list)\n",
    "    hand_score = 0.65*(number_hand_positive/all_hand_frames)\n",
    "    number_body_positive = sum(body_list)\n",
    "    all_body_frames = len(body_list)\n",
    "    body_score = 0.35*(number_body_positive/all_body_frames)\n",
    "    final_score = hand_score+body_score\n",
    "    return 1 if final_score>0.35 else 0"
   ]
  },
  {
   "cell_type": "code",
   "execution_count": 75,
   "metadata": {},
   "outputs": [],
   "source": [
    "def convert_to_csv(dectionary,pre_name):\n",
    "    for name in dectionary:\n",
    "        for key in dectionary[name]:\n",
    "            for i in range(Max-len(dectionary[name][key])):\n",
    "                dectionary[name][key].append(-1)\n",
    "        df = pd.DataFrame(dectionary[name])\n",
    "        df.to_csv(pre_name+\" \"+name+'.csv', index=False)\n",
    "        df.to_excel (pre_name+\" \"+name+'.xlsx', index = None, header=True)"
   ]
  },
  {
   "cell_type": "code",
   "execution_count": 46,
   "metadata": {},
   "outputs": [],
   "source": [
    "def pipeline_with_kalman(i,path_A):\n",
    "    print(path_A)\n",
    "    path_A_ = path_A.split(\"\\\\\")\n",
    "    key = path_A_[-1].split(\".\")[-2].split(\"-\")[-1]+\" \"+path_A_[-2].split(\"-\")[-1]\n",
    "    print(i,\" : \",key)\n",
    "    ind = []\n",
    "    freeRIGHT,freeLEFT,freeRIGHT_k,freeLEFT_k,freeRIGHT_nk,freeLEFT_nk = [],[],[],[],[],[]\n",
    "    head_points_without_k,shoulder_points_without_k,head_points_with_k,shoulder_points_with_k,head_points,shoulder_points = [],[],[],[],[],[]\n",
    "    decistion_body_without_k,decistion_body_with_k,decistion_body,decistion_hand_without_k,decistion_hand_with_k,decistion_hand = \"\",\"\",\"\",\"\",\"\",\"\"\n",
    "    HandFrameLable_kalman['without_kalman'][key],HandFrameLable_kalman['with_kalman'][key],HandFrameLable_kalman['Hybrid'][key] = [],[],[]\n",
    "    BodyFrameLable_kalman['without_kalman'][key],BodyFrameLable_kalman['with_kalman'][key],BodyFrameLable_kalman['Hybrid'][key] = [],[],[]\n",
    "    points_in_frames,point_list,index,indexs = [],[],0,0\n",
    "    mp_pose = mp.solutions.pose\n",
    "    cap = cv2.VideoCapture(path_A)\n",
    "    if (cap.isOpened() == False): \n",
    "        print(\"Error reading video file\")\n",
    "    frame_width,frame_height = int(cap.get(3)),int(cap.get(4))\n",
    "    size = (frame_width, frame_height)\n",
    "    result = cv2.VideoWriter(path_A[:-4]+\" Producted.avi\",cv2.VideoWriter_fourcc(*'MJPG'),10, size)\n",
    "    frames = cap.get(cv2.CAP_PROP_FRAME_COUNT)\n",
    "    fps = cap.get(cv2.CAP_PROP_FPS)\n",
    "    \n",
    "    seconds = round(frames / fps)\n",
    "    video_time,delta_t = datetime.timedelta(seconds=seconds),1/fps\n",
    "    \n",
    "    A,P,H,R,Q,X = creat_kalman_parameters(delta_t)\n",
    "    temp_1,temp_2,temp_3 = 0,0,0\n",
    "    with mp_pose.Pose(min_detection_confidence=0.5,min_tracking_confidence=0.5) as pose:\n",
    "        while cap.isOpened():\n",
    "            ind.append(indexs)\n",
    "            ret, frame = cap.read()\n",
    "            if (not ret) or (cv2.waitKey(10)==ord('q')):break\n",
    "            image = cv2.cvtColor(frame,cv2.COLOR_BGR2RGB)\n",
    "            results = pose.process(image)\n",
    "            image = cv2.cvtColor(image,cv2.COLOR_RGB2BGR)\n",
    "            try:\n",
    "                landmarks = results.pose_landmarks.landmark\n",
    "                points_in_frames.append(landmarks)\n",
    "                point_list = filtter_points(points_in_frames[index])\n",
    "                if index==1:X = point_list\n",
    "                for i in range(len(point_list)):\n",
    "                    Z = point_list[i]\n",
    "                    X[i] , P = Prediction_update(X[i],A,P,Q)\n",
    "                    X[i] , P , K = Measurement_update(Z,X[i],P,H,R)\n",
    "                \n",
    "                decistion_body_without_k,Ndecistion_body_without_k = body(point_list,head_points_without_k,shoulder_points_without_k,temp_1,index)\n",
    "                decistion_body_with_k,Ndecistion_body_with_k = body(X,head_points_with_k,shoulder_points_with_k,temp_2,index)\n",
    "                if (len(point_list)==7):decistion_body,Ndecistion_body = body(point_list,head_points,shoulder_points,temp_3,index)\n",
    "                else:decistion_body,Ndecistion_body = body(X,head_points,shoulder_points)\n",
    "                \n",
    "                BodyFrameLable_kalman[\"without_kalman\"][key].append(Ndecistion_body_without_k)\n",
    "                BodyFrameLable_kalman[\"with_kalman\"][key].append(Ndecistion_body_with_k)\n",
    "                BodyFrameLable_kalman[\"Hybrid\"][key].append(Ndecistion_body)\n",
    "                \n",
    "                decistion_hand_without_k,Ndecistion_hand_without_k = hand(point_list,freeLEFT_nk,freeRIGHT_nk)\n",
    "                decistion_hand_with_k,Ndecistion_hand_with_k = hand(X,freeLEFT_k,freeRIGHT_k)\n",
    "                \n",
    "                if (len(point_list)==7):decistion_hand,Ndecistion_hand = hand(point_list,freeLEFT,freeRIGHT)\n",
    "                else:decistion_hand,Ndecistion_hand = hand(X,freeLEFT,freeRIGHT)\n",
    "                    \n",
    "                HandFrameLable_kalman['without_kalman'][key].append(Ndecistion_hand_without_k)\n",
    "                HandFrameLable_kalman['with_kalman'][key].append(Ndecistion_hand_with_k)\n",
    "                HandFrameLable_kalman['Hybrid'][key].append(Ndecistion_hand)\n",
    "                index+=1\n",
    "            except:pass\n",
    "            \n",
    "            cv2.putText(image,decistion_hand_without_k+\": without_kalman\",(0,25),cv2.FONT_HERSHEY_SIMPLEX,1,(255,255,255),2)\n",
    "            cv2.putText(image,decistion_body_without_k+\" : without_kalman\",(0,60),cv2.FONT_HERSHEY_SIMPLEX,1,(255,255,255),2)\n",
    "            \n",
    "            cv2.putText(image,decistion_hand_with_k+\" : with_kalman\",(0,95),cv2.FONT_HERSHEY_SIMPLEX,1,(255,255,255),2)\n",
    "            cv2.putText(image,decistion_body_with_k+\" : with_kalman\",(0,130),cv2.FONT_HERSHEY_SIMPLEX,1,(255,255,255),2)\n",
    "            \n",
    "            cv2.putText(image,decistion_hand+\" : Hybrid\",(0,165),cv2.FONT_HERSHEY_SIMPLEX,1,(255,255,255),2)\n",
    "            cv2.putText(image,decistion_body+\" : Hybrid\",(0,200),cv2.FONT_HERSHEY_SIMPLEX,1,(255,255,255),2)\n",
    "                        \n",
    "            decistion_hand_with_k,decistion_body_with_k,decistion_hand,decistion_body,decistion_hand_without_k,decistion_body_without_k  ='','','','','',''\n",
    "            \n",
    "            Drawing_utils(image,results,mp_pose)\n",
    "            result.write(image)\n",
    "            indexs+=1\n",
    "            cv2.imshow(key,image)\n",
    "            if cv2.waitKey(10)==ord('q'):break\n",
    "    indall.append(ind)\n",
    "    cap.release()\n",
    "    result.release()\n",
    "    cv2.destroyAllWindows()"
   ]
  },
  {
   "cell_type": "code",
   "execution_count": 47,
   "metadata": {
    "scrolled": true
   },
   "outputs": [
    {
     "name": "stdout",
     "output_type": "stream",
     "text": [
      "D:\\DataSet\\representatiion_scoring_data_set\\Presenter No11-Rafeef\\C_Presenter No11-GroupC.mp4\n",
      "0  :  GroupC Rafeef\n"
     ]
    }
   ],
   "source": [
    "path_folder = \"D:\\\\DataSet\\\\representatiion_scoring_data_set\\\\Presenter No11-Rafeef\" ########\n",
    "folders ,videos = get_videos(path_folder)\n",
    "HandFrameLable_kalman = {}\n",
    "HandFrameLable_kalman['without_kalman'] = {}\n",
    "HandFrameLable_kalman['with_kalman'] = {}\n",
    "HandFrameLable_kalman['Hybrid'] = {}\n",
    "\n",
    "\n",
    "BodyFrameLable_kalman = {}\n",
    "BodyFrameLable_kalman['without_kalman'] = {}\n",
    "BodyFrameLable_kalman['with_kalman'] = {}\n",
    "BodyFrameLable_kalman['Hybrid'] = {}\n",
    "indall = []\n",
    "folders , all_video_paths = get_videos(path_folder)\n",
    "for j,i in enumerate([all_video_paths[-1]]):\n",
    "    try:pipeline_with_kalman(j,i)\n",
    "    except:print(\"exception\")"
   ]
  },
  {
   "cell_type": "code",
   "execution_count": 48,
   "metadata": {},
   "outputs": [],
   "source": [
    "save_object(HandFrameLable_kalman,\"HandFrameLable_kalman\")\n",
    "save_object(BodyFrameLable_kalman,\"BodyFrameLable_kalman\")\n",
    "save_object(indall,\"indall\")\n",
    "# HandFrameLable_kalman = load_object('HandFrameLable_kalman')\n",
    "# BodyFrameLable_kalman = load_object('BodyFrameLable_kalman')"
   ]
  },
  {
   "cell_type": "code",
   "execution_count": 73,
   "metadata": {
    "scrolled": true
   },
   "outputs": [
    {
     "name": "stdout",
     "output_type": "stream",
     "text": [
      "______________________________Hand Moveing______________________________\n",
      "without_kalman .......\n",
      "\n",
      "GroupC Rafeef :\n",
      "number of frame :  2997\n",
      "number of positive :  0\n",
      "number of negative :  2997\n",
      "average of positive :  0.0\n",
      "average of negative :  1.0\n",
      "============================================================================================\n",
      "with_kalman .......\n",
      "\n",
      "GroupC Rafeef :\n",
      "number of frame :  2997\n",
      "number of positive :  0\n",
      "number of negative :  2997\n",
      "average of positive :  0.0\n",
      "average of negative :  1.0\n",
      "============================================================================================\n",
      "Hybrid .......\n",
      "\n",
      "GroupC Rafeef :\n",
      "number of frame :  2997\n",
      "number of positive :  0\n",
      "number of negative :  2997\n",
      "average of positive :  0.0\n",
      "average of negative :  1.0\n",
      "============================================================================================\n",
      "\n",
      "############################################################################################\n",
      "\n",
      "______________________________Body Moveing______________________________\n",
      "without_kalman .......\n",
      "\n",
      "GroupC Rafeef :\n",
      "\n",
      "number of frame :  2997\n",
      "number of positive :  1566\n",
      "number of negative :  1431\n",
      "average of positive :  0.5225225225225225\n",
      "average of negative :  0.4774774774774775\n",
      "============================================================================================\n",
      "with_kalman .......\n",
      "\n",
      "GroupC Rafeef :\n",
      "\n",
      "number of frame :  2997\n",
      "number of positive :  1557\n",
      "number of negative :  1440\n",
      "average of positive :  0.5195195195195195\n",
      "average of negative :  0.4804804804804805\n",
      "============================================================================================\n",
      "Hybrid .......\n",
      "\n",
      "GroupC Rafeef :\n",
      "\n",
      "number of frame :  2997\n",
      "number of positive :  1566\n",
      "number of negative :  1431\n",
      "average of positive :  0.5225225225225225\n",
      "average of negative :  0.4774774774774775\n",
      "============================================================================================\n"
     ]
    }
   ],
   "source": [
    "print(\"______________________________Hand Moveing______________________________\")\n",
    "name_video,hand_grouping_frames,body_grouping_frames = [],[],[]\n",
    "dic_hand_grouping_frames,dic_body_grouping_frames = {},{}\n",
    "Max = 0\n",
    "for Type in HandFrameLable_kalman:\n",
    "    print(Type,\".......\\n\")\n",
    "    dic_hand_grouping_frames[Type]={}\n",
    "    for name in HandFrameLable_kalman[Type]:\n",
    "        print(name,\":\")\n",
    "        Max = max(Max,len(HandFrameLable_kalman[Type][name]))\n",
    "        temp = grouping_frames(HandFrameLable_kalman[Type][name],'hand')\n",
    "        hand_grouping_frames.append(temp)\n",
    "        dic_hand_grouping_frames[Type][name] = temp\n",
    "        name_video.append(name)\n",
    "        print(\"number of frame : \",len(HandFrameLable_kalman[Type][name]))\n",
    "        print(\"number of positive : \",sum(HandFrameLable_kalman[Type][name]))\n",
    "        print(\"number of negative : \",len(HandFrameLable_kalman[Type][name])-sum(HandFrameLable_kalman[Type][name]))\n",
    "        print(\"average of positive : \",sum(HandFrameLable_kalman[Type][name])/len(HandFrameLable_kalman[Type][name]))\n",
    "        print(\"average of negative : \",(len(HandFrameLable_kalman[Type][name])-sum(HandFrameLable_kalman[Type][name]))/len(HandFrameLable_kalman[Type][name]))\n",
    "        print(\"============================================================================================\")\n",
    "print(\"\\n############################################################################################\\n\")\n",
    "print(\"______________________________Body Moveing______________________________\")        \n",
    "for Type in BodyFrameLable_kalman:\n",
    "    print(Type,\".......\\n\")\n",
    "    dic_body_grouping_frames[Type]={}\n",
    "    for name in BodyFrameLable_kalman[Type]:\n",
    "        print(name,\":\\n\")\n",
    "        Max = max(Max,len(BodyFrameLable_kalman[Type][name]))\n",
    "        temp = grouping_frames(BodyFrameLable_kalman[Type][name],'body')\n",
    "        body_grouping_frames.append(temp)\n",
    "        dic_body_grouping_frames[Type][name] = temp\n",
    "        \n",
    "        print(\"number of frame : \",len(BodyFrameLable_kalman[Type][name]))\n",
    "        print(\"number of positive : \",sum(BodyFrameLable_kalman[Type][name]))\n",
    "        print(\"number of negative : \",len(BodyFrameLable_kalman[Type][name])-sum(BodyFrameLable_kalman[Type][name]))\n",
    "        print(\"average of positive : \",sum(BodyFrameLable_kalman[Type][name])/len(BodyFrameLable_kalman[Type][name]))\n",
    "        print(\"average of negative : \",(len(BodyFrameLable_kalman[Type][name])-sum(BodyFrameLable_kalman[Type][name]))/len(BodyFrameLable_kalman[Type][name]))\n",
    "        print(\"============================================================================================\")\n",
    "save_object(hand_grouping_frames,\"hand_grouping_frames\") \n",
    "save_object(body_grouping_frames,\"body_grouping_frames\")\n",
    "save_object(name_video,\"name_video\")\n",
    "\n",
    "# load_object('hand')\n",
    "# load_object('body')"
   ]
  },
  {
   "cell_type": "code",
   "execution_count": 79,
   "metadata": {},
   "outputs": [
    {
     "name": "stdout",
     "output_type": "stream",
     "text": [
      "Final evaluation of the video : \n",
      "GroupC Rafeef\n",
      "0\n",
      "GroupC Rafeef\n",
      "0\n",
      "GroupC Rafeef\n",
      "0\n"
     ]
    }
   ],
   "source": [
    "print(\"Final evaluation of the video : \")\n",
    "for i in range(len(hand_grouping_frames)):\n",
    "    print(name_video[i])\n",
    "    print(video_calss(hand_grouping_frames[i],body_grouping_frames[i]))"
   ]
  },
  {
   "cell_type": "code",
   "execution_count": 76,
   "metadata": {},
   "outputs": [],
   "source": [
    "convert_to_csv(BodyFrameLable_kalman,'results_for_all_frame_body')\n",
    "convert_to_csv(HandFrameLable_kalman,'results_for_all_frame_hand')"
   ]
  },
  {
   "cell_type": "code",
   "execution_count": 77,
   "metadata": {},
   "outputs": [],
   "source": [
    "convert_to_csv(dic_body_grouping_frames,'results_after_grouping_body')\n",
    "convert_to_csv(dic_hand_grouping_frames,'results_after_grouping_hand')"
   ]
  },
  {
   "cell_type": "code",
   "execution_count": null,
   "metadata": {},
   "outputs": [],
   "source": []
  }
 ],
 "metadata": {
  "kernelspec": {
   "display_name": "Python 3",
   "language": "python",
   "name": "python3"
  },
  "language_info": {
   "codemirror_mode": {
    "name": "ipython",
    "version": 3
   },
   "file_extension": ".py",
   "mimetype": "text/x-python",
   "name": "python",
   "nbconvert_exporter": "python",
   "pygments_lexer": "ipython3",
   "version": "3.7.6"
  }
 },
 "nbformat": 4,
 "nbformat_minor": 4
}
