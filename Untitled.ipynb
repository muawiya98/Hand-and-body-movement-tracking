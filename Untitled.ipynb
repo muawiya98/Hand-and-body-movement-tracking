{
 "cells": [
  {
   "cell_type": "code",
   "execution_count": 1,
   "metadata": {},
   "outputs": [],
   "source": [
    "import numpy as np\n",
    "from numpy.linalg import inv\n",
    "import matplotlib.pyplot as plt"
   ]
  },
  {
   "cell_type": "code",
   "execution_count": 6,
   "metadata": {},
   "outputs": [],
   "source": [
    "pp = \"\"\"Ignoring empty frame.\n",
    "Ignoring empty frame.\n",
    "Ignoring empty frame.\n",
    "Ignoring empty frame.\n",
    "Ignoring empty frame.\n",
    "Ignoring empty frame.\n",
    "Ignoring empty frame.\n",
    "Ignoring empty frame.\n",
    "Ignoring empty frame.\n",
    "Ignoring empty frame.\n",
    "Ignoring empty frame.\n",
    "Ignoring empty frame.\n",
    "Ignoring empty frame.\n",
    "Ignoring empty frame.\n",
    "Ignoring empty frame.\n",
    "Ignoring empty frame.\n",
    "Ignoring empty frame.\n",
    "Ignoring empty frame.\n",
    "Ignoring empty frame.\n",
    "Ignoring empty frame.\n",
    "Ignoring empty frame.\n",
    "Ignoring empty frame.\n",
    "Ignoring empty frame.\n",
    "Ignoring empty frame.\n",
    "Ignoring empty frame.\n",
    "Ignoring empty frame.\n",
    "Ignoring empty frame.\n",
    "Ignoring empty frame.\n",
    "Ignoring empty frame.\n",
    "Ignoring empty frame.\n",
    "Ignoring empty frame.\n",
    "Ignoring empty frame.\n",
    "Ignoring empty frame.\n",
    "Ignoring empty frame.\n",
    "Ignoring empty frame.\n",
    "Ignoring empty frame.\n",
    "Ignoring empty frame.\n",
    "Ignoring empty frame.\n",
    "Ignoring empty frame.\n",
    "Ignoring empty frame.\n",
    "Ignoring empty frame.\n",
    "Ignoring empty frame.\n",
    "Ignoring empty frame.\n",
    "Ignoring empty frame.\n",
    "Ignoring empty frame.\n",
    "Ignoring empty frame.\n",
    "Ignoring empty frame.\n",
    "Ignoring empty frame.\n",
    "Ignoring empty frame.\n",
    "Ignoring empty frame.\n",
    "Ignoring empty frame.\n",
    "Ignoring empty frame.\n",
    "Ignoring empty frame.\n",
    "Ignoring empty frame.\n",
    "Ignoring empty frame.\n",
    "Ignoring empty frame.\n",
    "Ignoring empty frame.\n",
    "Ignoring empty frame.\"\"\" "
   ]
  },
  {
   "cell_type": "code",
   "execution_count": 8,
   "metadata": {},
   "outputs": [
    {
     "data": {
      "text/plain": [
       "59"
      ]
     },
     "execution_count": 8,
     "metadata": {},
     "output_type": "execute_result"
    }
   ],
   "source": [
    "len(pp.split(\".\"))"
   ]
  },
  {
   "cell_type": "code",
   "execution_count": null,
   "metadata": {},
   "outputs": [],
   "source": []
  },
  {
   "cell_type": "code",
   "execution_count": 4,
   "metadata": {},
   "outputs": [],
   "source": [
    "def getMeasurement(updateNumber):\n",
    "    if updateNumber == 1:\n",
    "        getMeasurement.currentPosition = 0\n",
    "        getMeasurement.currentVelocity = 60 # m/s\n",
    "\n",
    "    dt = 0.1\n",
    "\n",
    "    w = 8 * np.random.randn(1)\n",
    "    v = 8 * np.random.randn(1)\n",
    "\n",
    "    z = getMeasurement.currentPosition + getMeasurement.currentVelocity*dt + v\n",
    "    getMeasurement.currentPosition = z - v\n",
    "    getMeasurement.currentVelocity = 60 + w\n",
    "    return [z, getMeasurement.currentPosition, getMeasurement.currentVelocity]"
   ]
  },
  {
   "cell_type": "code",
   "execution_count": 5,
   "metadata": {},
   "outputs": [],
   "source": [
    "def filter(z, updateNumber):\n",
    "    dt = 0.1\n",
    "    # Initialize State\n",
    "    if updateNumber == 1:\n",
    "        filter.x = np.array([[0],\n",
    "                            [20]])\n",
    "        filter.P = np.array([[5, 0],\n",
    "                                 [0, 5]])\n",
    "\n",
    "        filter.A = np.array([[1, dt],\n",
    "                             [0, 1]])\n",
    "        filter.H = np.array([[1, 0]])\n",
    "        filter.HT = np.array([[1],\n",
    "                              [0]])\n",
    "        filter.R = 10\n",
    "        filter.Q = np.array([[1, 0],\n",
    "                             [0, 3]])\n",
    "\n",
    "    # Predict State Forward\n",
    "    x_p = filter.A.dot(filter.x)\n",
    "    # Predict Covariance Forward\n",
    "    P_p = filter.A.dot(filter.P).dot(filter.A.T) + filter.Q\n",
    "    # Compute Kalman Gain\n",
    "    S = filter.H.dot(P_p).dot(filter.HT) + filter.R\n",
    "    K = P_p.dot(filter.HT)*(1/S)\n",
    "\n",
    "    # Estimate State\n",
    "    residual = z - filter.H.dot(x_p)\n",
    "    filter.x = x_p + K*residual\n",
    "\n",
    "    # Estimate Covariance\n",
    "    filter.P = P_p - K.dot(filter.H).dot(P_p)\n",
    "\n",
    "    return [filter.x[0], filter.x[1], filter.P];"
   ]
  },
  {
   "cell_type": "code",
   "execution_count": 6,
   "metadata": {},
   "outputs": [],
   "source": [
    "def testFilter():\n",
    "    dt = 0.1\n",
    "    t = np.linspace(0, 10, num=300)\n",
    "    numOfMeasurements = len(t)\n",
    "\n",
    "    measTime = []\n",
    "    measPos = []\n",
    "    measDifPos = []\n",
    "    estDifPos = []\n",
    "    estPos = []\n",
    "    estVel = []\n",
    "    posBound3Sigma = []\n",
    "\n",
    "    for k in range(1,numOfMeasurements):\n",
    "        z = getMeasurement(k)\n",
    "        # Call Filter and return new State\n",
    "        f = filter(z[0], k)\n",
    "        # Save off that state so that it could be plotted\n",
    "        measTime.append(k)\n",
    "        measPos.append(z[0])\n",
    "        measDifPos.append(z[0]-z[1])\n",
    "        estDifPos.append(f[0]-z[1])\n",
    "        estPos.append(f[0])\n",
    "        estVel.append(f[1])\n",
    "        posVar = f[2]\n",
    "        posBound3Sigma.append(3*np.sqrt(posVar[0][0]))\n",
    "\n",
    "    return [measTime, measPos, estPos, estVel, measDifPos, estDifPos, posBound3Sigma];"
   ]
  },
  {
   "cell_type": "code",
   "execution_count": 7,
   "metadata": {},
   "outputs": [
    {
     "data": {
      "image/png": "[encoded data removed]",
      "text/plain": [
       "<Figure size 432x288 with 1 Axes>"
      ]
     },
     "metadata": {
      "needs_background": "light"
     },
     "output_type": "display_data"
    },
    {
     "data": {
      "image/png": "[encoded data removed]",
      "text/plain": [
       "<Figure size 432x288 with 1 Axes>"
      ]
     },
     "metadata": {
      "needs_background": "light"
     },
     "output_type": "display_data"
    },
    {
     "data": {
      "image/png": "[encoded data removed]",
      "text/plain": [
       "<Figure size 432x288 with 1 Axes>"
      ]
     },
     "metadata": {
      "needs_background": "light"
     },
     "output_type": "display_data"
    }
   ],
   "source": [
    "t = testFilter()\n",
    "\n",
    "plot1 = plt.figure(1)\n",
    "plt.scatter(t[0], t[1])\n",
    "plt.plot(t[0], t[2])\n",
    "plt.ylabel('Position')\n",
    "plt.xlabel('Time')\n",
    "plt.grid(True)\n",
    "\n",
    "plot2 = plt.figure(2)\n",
    "plt.plot(t[0], t[3])\n",
    "plt.ylabel('Velocity (meters/seconds)')\n",
    "plt.xlabel('Update Number')\n",
    "plt.title('Velocity Estimate On Each Measurement Update \\n', fontweight=\"bold\")\n",
    "plt.legend(['Estimate'])\n",
    "plt.grid(True)\n",
    "\n",
    "plot3 = plt.figure(3)\n",
    "plt.scatter(t[0], t[4], color = 'red')\n",
    "plt.plot(t[0], t[5])\n",
    "plt.legend(['Estimate', 'Measurement'])\n",
    "plt.title('Position Errors On Each Measurement Update \\n', fontweight=\"bold\")\n",
    "#plt.plot(t[0], t[6])\n",
    "plt.ylabel('Position Error (meters)')\n",
    "plt.xlabel('Update Number')\n",
    "plt.grid(True)\n",
    "plt.xlim([0, 300])\n",
    "plt.show()"
   ]
  },
  {
   "cell_type": "code",
   "execution_count": null,
   "metadata": {},
   "outputs": [],
   "source": []
  },
  {
   "cell_type": "code",
   "execution_count": null,
   "metadata": {},
   "outputs": [],
   "source": []
  },
  {
   "cell_type": "code",
   "execution_count": null,
   "metadata": {},
   "outputs": [],
   "source": [
    "# **************************************************************************** #"
   ]
  },
  {
   "cell_type": "code",
   "execution_count": 8,
   "metadata": {},
   "outputs": [],
   "source": [
    "import numpy as np\n",
    "\n",
    "A = np.array([[90, 80, 40],\n",
    "              [90, 60, 80],\n",
    "              [60, 50, 70],\n",
    "              [30, 40, 70],\n",
    "              [30, 20, 90]])\n",
    "\n",
    "ones = np.ones([5, 5])\n",
    "deviation = A - (ones.dot(A) / len(A))\n",
    "covariance = deviation.T.dot(deviation)"
   ]
  },
  {
   "cell_type": "code",
   "execution_count": 12,
   "metadata": {},
   "outputs": [],
   "source": [
    "import numpy as np\n",
    "\n",
    "# Initial Values\n",
    "x = 50\n",
    "x_dot = 5\n",
    "\n",
    "# Standard Deviations\n",
    "x_std = 0.5\n",
    "x_dot_std = 0.2\n",
    "\n",
    "# Variance\n",
    "x_var = x_std ** 2\n",
    "x_dot_var = x_dot_std ** 2\n",
    "\n",
    "x_cov_x_dot = x_std * x_dot_std\n",
    "x_dot_cov_x = x_dot_std * x_std\n",
    "\n",
    "X = np.array([[x], [x_dot]])\n",
    "P = np.array([[x_var, x_cov_x_dot],\n",
    "              [x_dot_cov_x, x_dot_var]])"
   ]
  },
  {
   "cell_type": "code",
   "execution_count": 15,
   "metadata": {},
   "outputs": [],
   "source": [
    "# ************************************************\n",
    "# ************************************************\n",
    "# ************************************************"
   ]
  },
  {
   "cell_type": "code",
   "execution_count": 5,
   "metadata": {},
   "outputs": [],
   "source": [
    "import numpy as np\n",
    "from numpy.linalg import inv\n",
    "\n",
    "x_observations = np.array([4000, 4260, 4550, 4860, 5110])\n",
    "v_observations = np.array([280, 282, 285, 286, 290])\n",
    "\n",
    "z = np.c_[x_observations, v_observations]\n",
    "\n",
    "# Initial Conditions\n",
    "acceleration = 2  # Acceleration\n",
    "velocity = 280 \n",
    "delta_t = 1  # Difference in time\n",
    "\n",
    "# Process / Estimation Errors\n",
    "error_est_x = 20\n",
    "error_est_v = 5\n",
    "\n",
    "# Observation Errors\n",
    "error_obs_x = 25  # Uncertainty in the measurement\n",
    "error_obs_v = 6"
   ]
  },
  {
   "cell_type": "code",
   "execution_count": 6,
   "metadata": {},
   "outputs": [],
   "source": [
    "def prediction_X_prime(posetion, velocity, delta_t, acceleration):\n",
    "    A = np.array([[1, delta_t],\n",
    "                  [0, 1]])\n",
    "    X = np.array([[posetion],\n",
    "                  [velocity]])\n",
    "    B = np.array([[0.5 * delta_t ** 2],\n",
    "                  [delta_t]])\n",
    "    X_prime = A.dot(X) + B.dot(acceleration)\n",
    "    return X_prime"
   ]
  },
  {
   "cell_type": "code",
   "execution_count": 7,
   "metadata": {},
   "outputs": [],
   "source": [
    "def covariance2d(sigma1, sigma2):\n",
    "    cov1_2 = sigma1 * sigma2\n",
    "    cov2_1 = sigma2 * sigma1\n",
    "    cov_matrix = np.array([[sigma1 ** 2, cov1_2],\n",
    "                           [cov2_1, sigma2 ** 2]])\n",
    "    return np.diag(np.diag(cov_matrix))"
   ]
  },
  {
   "cell_type": "code",
   "execution_count": 8,
   "metadata": {},
   "outputs": [],
   "source": [
    "# Initial Estimation Covariance Matrix\n",
    "P = covariance2d(error_est_x, error_est_v)\n",
    "A = np.array([[1, delta_t],[0, 1]])"
   ]
  },
  {
   "cell_type": "code",
   "execution_count": 11,
   "metadata": {},
   "outputs": [],
   "source": [
    "# Initial State Matrix\n",
    "X = np.array([[z[0][0]],\n",
    "              [velocity]])\n",
    "n = len(z[0])"
   ]
  },
  {
   "cell_type": "code",
   "execution_count": 25,
   "metadata": {},
   "outputs": [
    {
     "name": "stdout",
     "output_type": "stream",
     "text": [
      "******************************************\n",
      "[4000, 4260, 4550, 4860, 5110]\n",
      "[280, 282, 285, 286, 290]\n",
      "==========================================\n",
      "[4260  282]\n",
      "X[0][0] :  7238.695768218723  __ X[1][0] :  305.7742537313433  __ delta_t :  1  __ acceleration :  2 \n",
      "\n",
      "X :  [[7545.47002195]\n",
      " [ 307.77425373]] \n",
      "\n",
      "P :  [[45.0861932   0.        ]\n",
      " [ 0.          1.67910448]] \n",
      "\n",
      "H :  [[1. 0.]\n",
      " [0. 1.]] \n",
      "\n",
      "R :  [[625   0]\n",
      " [  0  36]] \n",
      "\n",
      "S :  [[670.0861932    0.        ]\n",
      " [  0.          37.67910448]] \n",
      "\n",
      "K :  [[0.06728417 0.        ]\n",
      " [0.         0.04456328]] \n",
      "\n",
      "Y :  [[4260.]\n",
      " [ 282.]] \n",
      "\n",
      "X :  [[7324.40989914]\n",
      " [ 306.62566845]] \n",
      "\n",
      "P :  [[42.05260612  0.        ]\n",
      " [ 0.          1.60427807]] \n",
      "\n",
      "******************************************\n",
      "[4000, 4260, 4550, 4860, 5110]\n",
      "[280, 282, 285, 286, 290]\n",
      "==========================================\n",
      "[4550  285]\n",
      "X[0][0] :  7324.409899137445  __ X[1][0] :  306.6256684491979  __ delta_t :  1  __ acceleration :  2 \n",
      "\n",
      "X :  [[7632.03556759]\n",
      " [ 308.62566845]] \n",
      "\n",
      "P :  [[43.6568842   0.        ]\n",
      " [ 0.          1.60427807]] \n",
      "\n",
      "H :  [[1. 0.]\n",
      " [0. 1.]] \n",
      "\n",
      "R :  [[625   0]\n",
      " [  0  36]] \n",
      "\n",
      "S :  [[668.6568842    0.        ]\n",
      " [  0.          37.60427807]] \n",
      "\n",
      "K :  [[0.06529041 0.        ]\n",
      " [0.         0.04266212]] \n",
      "\n",
      "Y :  [[4550.]\n",
      " [ 285.]] \n",
      "\n",
      "X :  [[7430.80819217]\n",
      " [ 307.61774744]] \n",
      "\n",
      "P :  [[40.80650819  0.        ]\n",
      " [ 0.          1.53583618]] \n",
      "\n",
      "******************************************\n",
      "[4000, 4260, 4550, 4860, 5110]\n",
      "[280, 282, 285, 286, 290]\n",
      "==========================================\n",
      "[4860  286]\n",
      "X[0][0] :  7430.808192165765  __ X[1][0] :  307.6177474402731  __ delta_t :  1  __ acceleration :  2 \n",
      "\n",
      "X :  [[7739.42593961]\n",
      " [ 309.61774744]] \n",
      "\n",
      "P :  [[42.34234437  0.        ]\n",
      " [ 0.          1.53583618]] \n",
      "\n",
      "H :  [[1. 0.]\n",
      " [0. 1.]] \n",
      "\n",
      "R :  [[625   0]\n",
      " [  0  36]] \n",
      "\n",
      "S :  [[667.34234437   0.        ]\n",
      " [  0.          37.53583618]] \n",
      "\n",
      "K :  [[0.06344921 0.        ]\n",
      " [0.         0.04091653]] \n",
      "\n",
      "Y :  [[4860.]\n",
      " [ 286.]] \n",
      "\n",
      "X :  [[7556.72863926]\n",
      " [ 308.65139116]] \n",
      "\n",
      "P :  [[39.65575608  0.        ]\n",
      " [ 0.          1.47299509]] \n",
      "\n",
      "******************************************\n",
      "[4000, 4260, 4550, 4860, 5110]\n",
      "[280, 282, 285, 286, 290]\n",
      "==========================================\n",
      "[5110  290]\n",
      "X[0][0] :  7556.728639260861  __ X[1][0] :  308.65139116202954  __ delta_t :  1  __ acceleration :  2 \n",
      "\n",
      "X :  [[7866.38003042]\n",
      " [ 310.65139116]] \n",
      "\n",
      "P :  [[41.12875117  0.        ]\n",
      " [ 0.          1.47299509]] \n",
      "\n",
      "H :  [[1. 0.]\n",
      " [0. 1.]] \n",
      "\n",
      "R :  [[625   0]\n",
      " [  0  36]] \n",
      "\n",
      "S :  [[666.12875117   0.        ]\n",
      " [  0.          37.47299509]] \n",
      "\n",
      "K :  [[0.06174295 0.        ]\n",
      " [0.         0.03930818]] \n",
      "\n",
      "Y :  [[5110.]\n",
      " [ 290.]] \n",
      "\n",
      "X :  [[7696.19300846]\n",
      " [ 309.83962264]] \n",
      "\n",
      "P :  [[38.58934093  0.        ]\n",
      " [ 0.          1.41509434]] \n",
      "\n",
      "Kalman Filter State Matrix:\n",
      " [[7696.19300846]\n",
      " [ 309.83962264]]\n"
     ]
    }
   ],
   "source": [
    "for data in z[1:]:\n",
    "    print(\"******************************************\")\n",
    "    print([4000, 4260, 4550, 4860, 5110])\n",
    "    print([280, 282, 285, 286, 290])\n",
    "    print(\"==========================================\")\n",
    "    print(data)\n",
    "    print(\"X[0][0] : \",X[0][0],\" __ X[1][0] : \",X[1][0],\" __ delta_t : \",delta_t,\" __ acceleration : \",acceleration,\"\\n\")\n",
    "    X = prediction_X_prime(X[0][0], X[1][0], delta_t, acceleration)\n",
    "    print(\"X : \",X,\"\\n\")\n",
    "    # To simplify the problem, professor\n",
    "    # set off-diagonal terms to 0.\n",
    "    P = np.diag(np.diag(A.dot(P).dot(A.T)))\n",
    "    print(\"P : \",P,\"\\n\")\n",
    "\n",
    "    # Calculating the Kalman Gain\n",
    "    H = np.identity(n)\n",
    "    print(\"H : \",H,\"\\n\")\n",
    "    R = covariance2d(error_obs_x, error_obs_v)\n",
    "    print(\"R : \", R,\"\\n\")\n",
    "    S = H.dot(P).dot(H.T) + R\n",
    "    print(\"S : \",S,\"\\n\")\n",
    "    K = P.dot(H).dot(inv(S))\n",
    "    print(\"K : \",K,\"\\n\")\n",
    "    \n",
    "    # Reshape the new data into the measurement space.\n",
    "    Y = H.dot(data).reshape(n, -1)\n",
    "    print(\"Y : \",Y,\"\\n\")\n",
    "\n",
    "    # Update the State Matrix\n",
    "    # Combination of the predicted state, measured values, covariance matrix and Kalman Gain\n",
    "    X = X + K.dot(Y - H.dot(X))\n",
    "    print(\"X : \",X,\"\\n\")\n",
    "\n",
    "    # Update Process Covariance Matrix\n",
    "    P = (np.identity(len(K)) - K.dot(H)).dot(P)\n",
    "    print(\"P : \",P,\"\\n\")\n",
    "\n",
    "print(\"Kalman Filter State Matrix:\\n\", X)"
   ]
  },
  {
   "cell_type": "code",
   "execution_count": null,
   "metadata": {},
   "outputs": [],
   "source": []
  },
  {
   "cell_type": "code",
   "execution_count": 1,
   "metadata": {
    "scrolled": true
   },
   "outputs": [
    {
     "name": "stdout",
     "output_type": "stream",
     "text": [
      "Kalman Filter State Matrix:\n",
      " [[5127.05898493]\n",
      " [ 288.55147059]]\n"
     ]
    }
   ],
   "source": []
  },
  {
   "cell_type": "code",
   "execution_count": null,
   "metadata": {},
   "outputs": [],
   "source": []
  },
  {
   "cell_type": "code",
   "execution_count": null,
   "metadata": {},
   "outputs": [],
   "source": [
    "# ************************************************\n",
    "# ************************************************\n",
    "# ************************************************"
   ]
  },
  {
   "cell_type": "code",
   "execution_count": null,
   "metadata": {},
   "outputs": [],
   "source": []
  },
  {
   "cell_type": "code",
   "execution_count": null,
   "metadata": {},
   "outputs": [],
   "source": [
    "import logging\n",
    "import os\n",
    "from concurrent.futures import ThreadPoolExecutor\n",
    "from functools import partial\n",
    "from time import time\n",
    "\n",
    "from download import setup_download_dir, get_links, download_link\n",
    "\n",
    "logging.basicConfig(level=logging.INFO, format='%(asctime)s - %(name)s - %(levelname)s - %(message)s')\n",
    "\n",
    "logger = logging.getLogger(__name__)\n",
    "\n",
    "\n",
    "def main():\n",
    "    client_id = os.getenv('IMGUR_CLIENT_ID')\n",
    "    if not client_id:\n",
    "        raise Exception(\"Couldn't find IMGUR_CLIENT_ID environment variable!\")\n",
    "    download_dir = setup_download_dir()\n",
    "    links = get_links(client_id)\n",
    "\n",
    "    # By placing the executor inside a with block, the executors shutdown method\n",
    "    # will be called cleaning up threads.\n",
    "    # \n",
    "    # By default, the executor sets number of workers to 5 times the number of\n",
    "    # CPUs.\n",
    "    with ThreadPoolExecutor() as executor:\n",
    "\n",
    "        # Create a new partially applied function that stores the directory\n",
    "        # argument.\n",
    "        # \n",
    "        # This allows the download_link function that normally takes two\n",
    "        # arguments to work with the map function that expects a function of a\n",
    "        # single argument.\n",
    "        fn = partial(download_link, download_dir)\n",
    "\n",
    "        # Executes fn concurrently using threads on the links iterable. The\n",
    "        # timeout is for the entire process, not a single call, so downloading\n",
    "        # all images must complete within 30 seconds.\n",
    "        executor.map(fn, links, timeout=30)\n",
    "\n",
    "\n",
    "if __name__ == '__main__':\n",
    "    main()"
   ]
  },
  {
   "cell_type": "code",
   "execution_count": 10,
   "metadata": {},
   "outputs": [
    {
     "ename": "SyntaxError",
     "evalue": "(unicode error) 'unicodeescape' codec can't decode bytes in position 2-3: truncated \\UXXXXXXXX escape (<ipython-input-10-8bb1ef61899f>, line 28)",
     "output_type": "error",
     "traceback": [
      "\u001b[1;36m  File \u001b[1;32m\"<ipython-input-10-8bb1ef61899f>\"\u001b[1;36m, line \u001b[1;32m28\u001b[0m\n\u001b[1;33m    path = Path(f\"C:\\Users\\user\\Desktop\\my photos\\Wallpapers\")\u001b[0m\n\u001b[1;37m               ^\u001b[0m\n\u001b[1;31mSyntaxError\u001b[0m\u001b[1;31m:\u001b[0m (unicode error) 'unicodeescape' codec can't decode bytes in position 2-3: truncated \\UXXXXXXXX escape\n"
     ]
    }
   ],
   "source": [
    "import logging\n",
    "from pathlib import Path\n",
    "from time import time\n",
    "from functools import partial\n",
    "\n",
    "from concurrent.futures import ProcessPoolExecutor\n",
    "\n",
    "from PIL import Image\n",
    "\n",
    "logging.basicConfig(level=logging.INFO, format='%(asctime)s - %(name)s - %(levelname)s - %(message)s')\n",
    "\n",
    "logger = logging.getLogger(__name__)\n",
    "\n",
    "\n",
    "def create_thumbnail(size, path):\n",
    "    \"\"\"\n",
    "    Creates a thumbnail of an image with the same name as image but with\n",
    "    _thumbnail appended before the extension. E.g.:\n",
    "\n",
    "    >>> create_thumbnail((128, 128), 'image.jpg')\n",
    "\n",
    "    A new thumbnail image is created with the name image_thumbnail.jpg\n",
    "\n",
    "    :param size: A tuple of the width and height of the image\n",
    "    :param path: The path to the image file\n",
    "    :return: None\n",
    "    \"\"\"\n",
    "    path = Path(path)\n",
    "    name = path.stem + '_thumbnail' + path.suffix\n",
    "    thumbnail_path = path.with_name(name)\n",
    "    image = Image.open(path)\n",
    "    image.thumbnail(size)\n",
    "    image.save(thumbnail_path)\n",
    "\n",
    "\n",
    "def main():\n",
    "    ts = time()\n",
    "    # Partially apply the create_thumbnail method, setting the size to 128x128\n",
    "    # and returning a function of a single argument.\n",
    "    thumbnail_128 = partial(create_thumbnail, (128, 128))\n",
    "\n",
    "    # Create the executor in a with block so shutdown is called when the block\n",
    "    # is exited.\n",
    "    with ProcessPoolExecutor() as executor:\n",
    "        executor.map(thumbnail_128, Path('images').iterdir())\n",
    "    logging.info('Took %s', time() - ts)\n",
    "\n",
    "\n",
    "if __name__ == '__main__':\n",
    "    main()"
   ]
  },
  {
   "cell_type": "code",
   "execution_count": null,
   "metadata": {},
   "outputs": [],
   "source": []
  },
  {
   "cell_type": "code",
   "execution_count": 6,
   "metadata": {},
   "outputs": [],
   "source": [
    "import numpy as np\n",
    "import time\n",
    "import concurrent.futures\n",
    "a = np.arange(100000000).reshape(100, 1000000)\n",
    "\n",
    "def list_double_value(x):\n",
    "    y = []\n",
    "    for elem in x:\n",
    "        y.append(2 *elem)\n",
    "    return y\n",
    "\n",
    "def double_value(x):\n",
    "    return 2* x"
   ]
  },
  {
   "cell_type": "code",
   "execution_count": null,
   "metadata": {},
   "outputs": [],
   "source": [
    "t = time.time()\n",
    "\n",
    "with concurrent.futures.ProcessPoolExecutor() as executor:\n",
    "    my_results = executor.map(list_double_value, a) # takes a list and double its value\n",
    "print(time.time()-t)"
   ]
  },
  {
   "cell_type": "code",
   "execution_count": null,
   "metadata": {},
   "outputs": [],
   "source": [
    "t = time.time()\n",
    "\n",
    "with concurrent.futures.ThreadPoolExecutor() as executor:\n",
    "    my_results = executor.map(list_double_value, a)\n",
    "print(time.time()-t)"
   ]
  },
  {
   "cell_type": "code",
   "execution_count": null,
   "metadata": {},
   "outputs": [],
   "source": [
    "t = time.time()\n",
    "\n",
    "with concurrent.futures.ProcessPoolExecutor() as executor:\n",
    "    my_results = executor.map(double_value, a)\n",
    "print(time.time()-t)"
   ]
  },
  {
   "cell_type": "code",
   "execution_count": 13,
   "metadata": {},
   "outputs": [
    {
     "name": "stdout",
     "output_type": "stream",
     "text": [
      "0.07081055641174316\n"
     ]
    }
   ],
   "source": [
    "t = time.time()\n",
    "\n",
    "with concurrent.futures.ThreadPoolExecutor() as executor:\n",
    "    my_results = executor.map(double_value, a)\n",
    "print(time.time()-t)"
   ]
  },
  {
   "cell_type": "code",
   "execution_count": 14,
   "metadata": {},
   "outputs": [
    {
     "data": {
      "text/plain": [
       "array([      0,       2,       4, ..., 1999994, 1999996, 1999998])"
      ]
     },
     "execution_count": 14,
     "metadata": {},
     "output_type": "execute_result"
    }
   ],
   "source": [
    "list(my_results)[0]"
   ]
  },
  {
   "cell_type": "code",
   "execution_count": null,
   "metadata": {},
   "outputs": [],
   "source": []
  },
  {
   "cell_type": "code",
   "execution_count": 15,
   "metadata": {},
   "outputs": [
    {
     "ename": "ImportError",
     "evalue": "cannot import name 'get_native_id' from 'threading' (C:\\ProgramData\\Anaconda3\\lib\\threading.py)",
     "output_type": "error",
     "traceback": [
      "\u001b[1;31m---------------------------------------------------------------------------\u001b[0m",
      "\u001b[1;31mImportError\u001b[0m                               Traceback (most recent call last)",
      "\u001b[1;32m<ipython-input-15-9b6487c91284>\u001b[0m in \u001b[0;36m<module>\u001b[1;34m\u001b[0m\n\u001b[0;32m      4\u001b[0m \u001b[1;32mfrom\u001b[0m \u001b[0mthreading\u001b[0m \u001b[1;32mimport\u001b[0m \u001b[0mcurrent_thread\u001b[0m\u001b[1;33m\u001b[0m\u001b[1;33m\u001b[0m\u001b[0m\n\u001b[0;32m      5\u001b[0m \u001b[1;32mfrom\u001b[0m \u001b[0mthreading\u001b[0m \u001b[1;32mimport\u001b[0m \u001b[0mget_ident\u001b[0m\u001b[1;33m\u001b[0m\u001b[1;33m\u001b[0m\u001b[0m\n\u001b[1;32m----> 6\u001b[1;33m \u001b[1;32mfrom\u001b[0m \u001b[0mthreading\u001b[0m \u001b[1;32mimport\u001b[0m \u001b[0mget_native_id\u001b[0m\u001b[1;33m\u001b[0m\u001b[1;33m\u001b[0m\u001b[0m\n\u001b[0m\u001b[0;32m      7\u001b[0m \u001b[1;32mfrom\u001b[0m \u001b[0mconcurrent\u001b[0m\u001b[1;33m.\u001b[0m\u001b[0mfutures\u001b[0m \u001b[1;32mimport\u001b[0m \u001b[0mThreadPoolExecutor\u001b[0m\u001b[1;33m\u001b[0m\u001b[1;33m\u001b[0m\u001b[0m\n\u001b[0;32m      8\u001b[0m \u001b[1;33m\u001b[0m\u001b[0m\n",
      "\u001b[1;31mImportError\u001b[0m: cannot import name 'get_native_id' from 'threading' (C:\\ProgramData\\Anaconda3\\lib\\threading.py)"
     ]
    }
   ],
   "source": [
    "# SuperFastPython.com\n",
    "# check the thread used to execute future callbacks\n",
    "from time import sleep\n",
    "from threading import current_thread\n",
    "from threading import get_ident\n",
    "from threading import get_native_id\n",
    "from concurrent.futures import ThreadPoolExecutor\n",
    "\n",
    "# target task function\n",
    "def work():\n",
    "    sleep(0.1)\n",
    "    # worker thread details\n",
    "    thread = current_thread()\n",
    "    print(f'Worker thread: name={thread.name}, idnet={get_ident()}, id={get_native_id()}')\n",
    "\n",
    "# callback function to call when a task is completed\n",
    "def custom_callback(future):\n",
    "    # callback thread details\n",
    "    thread = current_thread()\n",
    "    print(f'Callback thread: name={thread.name}, idnet={get_ident()}, id={get_native_id()}')\n",
    "/\n",
    "# entry point\n",
    "if __name__ == '__main__':\n",
    "    # main thread details\n",
    "    thread = current_thread()\n",
    "    print(f'Main thread: name={thread.name}, idnet={get_ident()}, id={get_native_id()}')\n",
    "    # create a thread pool\n",
    "    with ThreadPoolExecutor(2) as executor:\n",
    "        # submit a task\n",
    "       future = executor.submit(work)\n",
    "       # add a callback function\n",
    "       future.add_done_callback(custom_callback)"
   ]
  },
  {
   "cell_type": "code",
   "execution_count": null,
   "metadata": {},
   "outputs": [],
   "source": []
  },
  {
   "cell_type": "code",
   "execution_count": null,
   "metadata": {},
   "outputs": [],
   "source": []
  },
  {
   "cell_type": "code",
   "execution_count": 27,
   "metadata": {},
   "outputs": [],
   "source": [
    "from filterpy.kalman import KalmanFilter\n",
    "f = KalmanFilter (dim_x=3, dim_z=1)"
   ]
  },
  {
   "cell_type": "code",
   "execution_count": 28,
   "metadata": {},
   "outputs": [],
   "source": [
    "f.x = np.array([[2.],\n",
    "                [5.0],# position\n",
    "                [0.]])   # velocity"
   ]
  },
  {
   "cell_type": "code",
   "execution_count": null,
   "metadata": {},
   "outputs": [],
   "source": [
    "csv_path = [\"D:\\DataSet\\representatiion_scoring_data_set\\Presenter No11-Rafeef\\C_Presenter No11-GroupA Producted.csv\",\n",
    "            \"D:\\DataSet\\representatiion_scoring_data_set\\Presenter No11-Rafeef\\C_Presenter No11-GroupD Producted.csv\"]"
   ]
  },
  {
   "cell_type": "code",
   "execution_count": null,
   "metadata": {},
   "outputs": [],
   "source": []
  },
  {
   "cell_type": "code",
   "execution_count": null,
   "metadata": {},
   "outputs": [],
   "source": []
  },
  {
   "cell_type": "code",
   "execution_count": null,
   "metadata": {},
   "outputs": [],
   "source": []
  },
  {
   "cell_type": "code",
   "execution_count": null,
   "metadata": {},
   "outputs": [],
   "source": []
  },
  {
   "cell_type": "code",
   "execution_count": null,
   "metadata": {},
   "outputs": [],
   "source": []
  },
  {
   "cell_type": "code",
   "execution_count": null,
   "metadata": {},
   "outputs": [],
   "source": []
  },
  {
   "cell_type": "code",
   "execution_count": null,
   "metadata": {},
   "outputs": [],
   "source": []
  }
 ],
 "metadata": {
  "kernelspec": {
   "display_name": "Python 3",
   "language": "python",
   "name": "python3"
  },
  "language_info": {
   "codemirror_mode": {
    "name": "ipython",
    "version": 3
   },
   "file_extension": ".py",
   "mimetype": "text/x-python",
   "name": "python",
   "nbconvert_exporter": "python",
   "pygments_lexer": "ipython3",
   "version": "3.7.6"
  }
 },
 "nbformat": 4,
 "nbformat_minor": 4
}
